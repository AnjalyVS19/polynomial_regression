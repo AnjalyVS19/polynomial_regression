{
 "cells": [
  {
   "cell_type": "code",
   "execution_count": 1,
   "id": "e08d381d",
   "metadata": {},
   "outputs": [],
   "source": [
    "from sklearn.linear_model import LinearRegression\n",
    "from sklearn.preprocessing import PolynomialFeatures\n",
    "import numpy as np\n",
    "import matplotlib.pyplot as plt"
   ]
  },
  {
   "cell_type": "code",
   "execution_count": 2,
   "id": "28456a0f",
   "metadata": {},
   "outputs": [],
   "source": [
    "xtrain=[[6],[8],[10],[14],[18]] \n",
    "ytrain=[[7],[9],[13],[17.5],[18]]\n",
    "x_test=[[6],[8],[11],[16]]\n",
    "y_test=[[8],[12],[15],[18]]"
   ]
  },
  {
   "cell_type": "code",
   "execution_count": 3,
   "id": "b045f13c",
   "metadata": {},
   "outputs": [
    {
     "data": {
      "text/html": [
       "<style>#sk-container-id-1 {color: black;}#sk-container-id-1 pre{padding: 0;}#sk-container-id-1 div.sk-toggleable {background-color: white;}#sk-container-id-1 label.sk-toggleable__label {cursor: pointer;display: block;width: 100%;margin-bottom: 0;padding: 0.3em;box-sizing: border-box;text-align: center;}#sk-container-id-1 label.sk-toggleable__label-arrow:before {content: \"▸\";float: left;margin-right: 0.25em;color: #696969;}#sk-container-id-1 label.sk-toggleable__label-arrow:hover:before {color: black;}#sk-container-id-1 div.sk-estimator:hover label.sk-toggleable__label-arrow:before {color: black;}#sk-container-id-1 div.sk-toggleable__content {max-height: 0;max-width: 0;overflow: hidden;text-align: left;background-color: #f0f8ff;}#sk-container-id-1 div.sk-toggleable__content pre {margin: 0.2em;color: black;border-radius: 0.25em;background-color: #f0f8ff;}#sk-container-id-1 input.sk-toggleable__control:checked~div.sk-toggleable__content {max-height: 200px;max-width: 100%;overflow: auto;}#sk-container-id-1 input.sk-toggleable__control:checked~label.sk-toggleable__label-arrow:before {content: \"▾\";}#sk-container-id-1 div.sk-estimator input.sk-toggleable__control:checked~label.sk-toggleable__label {background-color: #d4ebff;}#sk-container-id-1 div.sk-label input.sk-toggleable__control:checked~label.sk-toggleable__label {background-color: #d4ebff;}#sk-container-id-1 input.sk-hidden--visually {border: 0;clip: rect(1px 1px 1px 1px);clip: rect(1px, 1px, 1px, 1px);height: 1px;margin: -1px;overflow: hidden;padding: 0;position: absolute;width: 1px;}#sk-container-id-1 div.sk-estimator {font-family: monospace;background-color: #f0f8ff;border: 1px dotted black;border-radius: 0.25em;box-sizing: border-box;margin-bottom: 0.5em;}#sk-container-id-1 div.sk-estimator:hover {background-color: #d4ebff;}#sk-container-id-1 div.sk-parallel-item::after {content: \"\";width: 100%;border-bottom: 1px solid gray;flex-grow: 1;}#sk-container-id-1 div.sk-label:hover label.sk-toggleable__label {background-color: #d4ebff;}#sk-container-id-1 div.sk-serial::before {content: \"\";position: absolute;border-left: 1px solid gray;box-sizing: border-box;top: 0;bottom: 0;left: 50%;z-index: 0;}#sk-container-id-1 div.sk-serial {display: flex;flex-direction: column;align-items: center;background-color: white;padding-right: 0.2em;padding-left: 0.2em;position: relative;}#sk-container-id-1 div.sk-item {position: relative;z-index: 1;}#sk-container-id-1 div.sk-parallel {display: flex;align-items: stretch;justify-content: center;background-color: white;position: relative;}#sk-container-id-1 div.sk-item::before, #sk-container-id-1 div.sk-parallel-item::before {content: \"\";position: absolute;border-left: 1px solid gray;box-sizing: border-box;top: 0;bottom: 0;left: 50%;z-index: -1;}#sk-container-id-1 div.sk-parallel-item {display: flex;flex-direction: column;z-index: 1;position: relative;background-color: white;}#sk-container-id-1 div.sk-parallel-item:first-child::after {align-self: flex-end;width: 50%;}#sk-container-id-1 div.sk-parallel-item:last-child::after {align-self: flex-start;width: 50%;}#sk-container-id-1 div.sk-parallel-item:only-child::after {width: 0;}#sk-container-id-1 div.sk-dashed-wrapped {border: 1px dashed gray;margin: 0 0.4em 0.5em 0.4em;box-sizing: border-box;padding-bottom: 0.4em;background-color: white;}#sk-container-id-1 div.sk-label label {font-family: monospace;font-weight: bold;display: inline-block;line-height: 1.2em;}#sk-container-id-1 div.sk-label-container {text-align: center;}#sk-container-id-1 div.sk-container {/* jupyter's `normalize.less` sets `[hidden] { display: none; }` but bootstrap.min.css set `[hidden] { display: none !important; }` so we also need the `!important` here to be able to override the default hidden behavior on the sphinx rendered scikit-learn.org. See: https://github.com/scikit-learn/scikit-learn/issues/21755 */display: inline-block !important;position: relative;}#sk-container-id-1 div.sk-text-repr-fallback {display: none;}</style><div id=\"sk-container-id-1\" class=\"sk-top-container\"><div class=\"sk-text-repr-fallback\"><pre>LinearRegression()</pre><b>In a Jupyter environment, please rerun this cell to show the HTML representation or trust the notebook. <br />On GitHub, the HTML representation is unable to render, please try loading this page with nbviewer.org.</b></div><div class=\"sk-container\" hidden><div class=\"sk-item\"><div class=\"sk-estimator sk-toggleable\"><input class=\"sk-toggleable__control sk-hidden--visually\" id=\"sk-estimator-id-1\" type=\"checkbox\" checked><label for=\"sk-estimator-id-1\" class=\"sk-toggleable__label sk-toggleable__label-arrow\">LinearRegression</label><div class=\"sk-toggleable__content\"><pre>LinearRegression()</pre></div></div></div></div></div>"
      ],
      "text/plain": [
       "LinearRegression()"
      ]
     },
     "execution_count": 3,
     "metadata": {},
     "output_type": "execute_result"
    }
   ],
   "source": [
    "regressor=LinearRegression()\n",
    "regressor.fit(xtrain,ytrain)"
   ]
  },
  {
   "cell_type": "code",
   "execution_count": 4,
   "id": "1c13f3f9",
   "metadata": {},
   "outputs": [
    {
     "name": "stdout",
     "output_type": "stream",
     "text": [
      "(100,)\n"
     ]
    }
   ],
   "source": [
    "xx=np.linspace(0,26,100)\n",
    "print(xx.shape)"
   ]
  },
  {
   "cell_type": "code",
   "execution_count": 5,
   "id": "7e20ae63",
   "metadata": {},
   "outputs": [],
   "source": [
    "xx=xx.reshape(100,1)"
   ]
  },
  {
   "cell_type": "code",
   "execution_count": 6,
   "id": "4cc62665",
   "metadata": {
    "collapsed": true
   },
   "outputs": [
    {
     "data": {
      "text/plain": [
       "array([[ 1.96551724],\n",
       "       [ 2.22191745],\n",
       "       [ 2.47831766],\n",
       "       [ 2.73471787],\n",
       "       [ 2.99111808],\n",
       "       [ 3.24751829],\n",
       "       [ 3.5039185 ],\n",
       "       [ 3.7603187 ],\n",
       "       [ 4.01671891],\n",
       "       [ 4.27311912],\n",
       "       [ 4.52951933],\n",
       "       [ 4.78591954],\n",
       "       [ 5.04231975],\n",
       "       [ 5.29871996],\n",
       "       [ 5.55512017],\n",
       "       [ 5.81152038],\n",
       "       [ 6.06792059],\n",
       "       [ 6.32432079],\n",
       "       [ 6.580721  ],\n",
       "       [ 6.83712121],\n",
       "       [ 7.09352142],\n",
       "       [ 7.34992163],\n",
       "       [ 7.60632184],\n",
       "       [ 7.86272205],\n",
       "       [ 8.11912226],\n",
       "       [ 8.37552247],\n",
       "       [ 8.63192268],\n",
       "       [ 8.88832288],\n",
       "       [ 9.14472309],\n",
       "       [ 9.4011233 ],\n",
       "       [ 9.65752351],\n",
       "       [ 9.91392372],\n",
       "       [10.17032393],\n",
       "       [10.42672414],\n",
       "       [10.68312435],\n",
       "       [10.93952456],\n",
       "       [11.19592476],\n",
       "       [11.45232497],\n",
       "       [11.70872518],\n",
       "       [11.96512539],\n",
       "       [12.2215256 ],\n",
       "       [12.47792581],\n",
       "       [12.73432602],\n",
       "       [12.99072623],\n",
       "       [13.24712644],\n",
       "       [13.50352665],\n",
       "       [13.75992685],\n",
       "       [14.01632706],\n",
       "       [14.27272727],\n",
       "       [14.52912748],\n",
       "       [14.78552769],\n",
       "       [15.0419279 ],\n",
       "       [15.29832811],\n",
       "       [15.55472832],\n",
       "       [15.81112853],\n",
       "       [16.06752874],\n",
       "       [16.32392894],\n",
       "       [16.58032915],\n",
       "       [16.83672936],\n",
       "       [17.09312957],\n",
       "       [17.34952978],\n",
       "       [17.60592999],\n",
       "       [17.8623302 ],\n",
       "       [18.11873041],\n",
       "       [18.37513062],\n",
       "       [18.63153083],\n",
       "       [18.88793103],\n",
       "       [19.14433124],\n",
       "       [19.40073145],\n",
       "       [19.65713166],\n",
       "       [19.91353187],\n",
       "       [20.16993208],\n",
       "       [20.42633229],\n",
       "       [20.6827325 ],\n",
       "       [20.93913271],\n",
       "       [21.19553292],\n",
       "       [21.45193312],\n",
       "       [21.70833333],\n",
       "       [21.96473354],\n",
       "       [22.22113375],\n",
       "       [22.47753396],\n",
       "       [22.73393417],\n",
       "       [22.99033438],\n",
       "       [23.24673459],\n",
       "       [23.5031348 ],\n",
       "       [23.75953501],\n",
       "       [24.01593521],\n",
       "       [24.27233542],\n",
       "       [24.52873563],\n",
       "       [24.78513584],\n",
       "       [25.04153605],\n",
       "       [25.29793626],\n",
       "       [25.55433647],\n",
       "       [25.81073668],\n",
       "       [26.06713689],\n",
       "       [26.3235371 ],\n",
       "       [26.5799373 ],\n",
       "       [26.83633751],\n",
       "       [27.09273772],\n",
       "       [27.34913793]])"
      ]
     },
     "execution_count": 6,
     "metadata": {},
     "output_type": "execute_result"
    }
   ],
   "source": [
    "yy=regressor.predict(xx)\n",
    "yy"
   ]
  },
  {
   "cell_type": "code",
   "execution_count": 7,
   "id": "d0fe5a80",
   "metadata": {},
   "outputs": [
    {
     "data": {
      "text/plain": [
       "[<matplotlib.lines.Line2D at 0x16347815990>]"
      ]
     },
     "execution_count": 7,
     "metadata": {},
     "output_type": "execute_result"
    },
    {
     "data": {
      "image/png": "[encoded data removed]",
      "text/plain": [
       "<Figure size 640x480 with 1 Axes>"
      ]
     },
     "metadata": {},
     "output_type": "display_data"
    }
   ],
   "source": [
    "plt.plot(xx,yy,'r.')"
   ]
  },
  {
   "cell_type": "code",
   "execution_count": 8,
   "id": "5d4d6515",
   "metadata": {},
   "outputs": [
    {
     "data": {
      "text/plain": [
       "[[6], [8], [10], [14], [18]]"
      ]
     },
     "execution_count": 8,
     "metadata": {},
     "output_type": "execute_result"
    }
   ],
   "source": [
    "xtrain"
   ]
  },
  {
   "cell_type": "code",
   "execution_count": 47,
   "id": "80728539",
   "metadata": {},
   "outputs": [
    {
     "data": {
      "text/plain": [
       "array([[1.00000e+00, 6.00000e+00, 3.60000e+01, 2.16000e+02, 1.29600e+03],\n",
       "       [1.00000e+00, 8.00000e+00, 6.40000e+01, 5.12000e+02, 4.09600e+03],\n",
       "       [1.00000e+00, 1.00000e+01, 1.00000e+02, 1.00000e+03, 1.00000e+04],\n",
       "       [1.00000e+00, 1.40000e+01, 1.96000e+02, 2.74400e+03, 3.84160e+04],\n",
       "       [1.00000e+00, 1.80000e+01, 3.24000e+02, 5.83200e+03, 1.04976e+05]])"
      ]
     },
     "execution_count": 47,
     "metadata": {},
     "output_type": "execute_result"
    }
   ],
   "source": [
    "quadratic=PolynomialFeatures(degree=4) #x^4\n",
    "xtrain_quadratic=quadratic.fit_transform(xtrain)\n",
    "x_test_quadratic=quadratic.transform(x_test)\n",
    "xtrain_quadratic # we gwt 5 features"
   ]
  },
  {
   "cell_type": "code",
   "execution_count": 48,
   "id": "e5551cb6",
   "metadata": {},
   "outputs": [
    {
     "data": {
      "text/html": [
       "<style>#sk-container-id-4 {color: black;}#sk-container-id-4 pre{padding: 0;}#sk-container-id-4 div.sk-toggleable {background-color: white;}#sk-container-id-4 label.sk-toggleable__label {cursor: pointer;display: block;width: 100%;margin-bottom: 0;padding: 0.3em;box-sizing: border-box;text-align: center;}#sk-container-id-4 label.sk-toggleable__label-arrow:before {content: \"▸\";float: left;margin-right: 0.25em;color: #696969;}#sk-container-id-4 label.sk-toggleable__label-arrow:hover:before {color: black;}#sk-container-id-4 div.sk-estimator:hover label.sk-toggleable__label-arrow:before {color: black;}#sk-container-id-4 div.sk-toggleable__content {max-height: 0;max-width: 0;overflow: hidden;text-align: left;background-color: #f0f8ff;}#sk-container-id-4 div.sk-toggleable__content pre {margin: 0.2em;color: black;border-radius: 0.25em;background-color: #f0f8ff;}#sk-container-id-4 input.sk-toggleable__control:checked~div.sk-toggleable__content {max-height: 200px;max-width: 100%;overflow: auto;}#sk-container-id-4 input.sk-toggleable__control:checked~label.sk-toggleable__label-arrow:before {content: \"▾\";}#sk-container-id-4 div.sk-estimator input.sk-toggleable__control:checked~label.sk-toggleable__label {background-color: #d4ebff;}#sk-container-id-4 div.sk-label input.sk-toggleable__control:checked~label.sk-toggleable__label {background-color: #d4ebff;}#sk-container-id-4 input.sk-hidden--visually {border: 0;clip: rect(1px 1px 1px 1px);clip: rect(1px, 1px, 1px, 1px);height: 1px;margin: -1px;overflow: hidden;padding: 0;position: absolute;width: 1px;}#sk-container-id-4 div.sk-estimator {font-family: monospace;background-color: #f0f8ff;border: 1px dotted black;border-radius: 0.25em;box-sizing: border-box;margin-bottom: 0.5em;}#sk-container-id-4 div.sk-estimator:hover {background-color: #d4ebff;}#sk-container-id-4 div.sk-parallel-item::after {content: \"\";width: 100%;border-bottom: 1px solid gray;flex-grow: 1;}#sk-container-id-4 div.sk-label:hover label.sk-toggleable__label {background-color: #d4ebff;}#sk-container-id-4 div.sk-serial::before {content: \"\";position: absolute;border-left: 1px solid gray;box-sizing: border-box;top: 0;bottom: 0;left: 50%;z-index: 0;}#sk-container-id-4 div.sk-serial {display: flex;flex-direction: column;align-items: center;background-color: white;padding-right: 0.2em;padding-left: 0.2em;position: relative;}#sk-container-id-4 div.sk-item {position: relative;z-index: 1;}#sk-container-id-4 div.sk-parallel {display: flex;align-items: stretch;justify-content: center;background-color: white;position: relative;}#sk-container-id-4 div.sk-item::before, #sk-container-id-4 div.sk-parallel-item::before {content: \"\";position: absolute;border-left: 1px solid gray;box-sizing: border-box;top: 0;bottom: 0;left: 50%;z-index: -1;}#sk-container-id-4 div.sk-parallel-item {display: flex;flex-direction: column;z-index: 1;position: relative;background-color: white;}#sk-container-id-4 div.sk-parallel-item:first-child::after {align-self: flex-end;width: 50%;}#sk-container-id-4 div.sk-parallel-item:last-child::after {align-self: flex-start;width: 50%;}#sk-container-id-4 div.sk-parallel-item:only-child::after {width: 0;}#sk-container-id-4 div.sk-dashed-wrapped {border: 1px dashed gray;margin: 0 0.4em 0.5em 0.4em;box-sizing: border-box;padding-bottom: 0.4em;background-color: white;}#sk-container-id-4 div.sk-label label {font-family: monospace;font-weight: bold;display: inline-block;line-height: 1.2em;}#sk-container-id-4 div.sk-label-container {text-align: center;}#sk-container-id-4 div.sk-container {/* jupyter's `normalize.less` sets `[hidden] { display: none; }` but bootstrap.min.css set `[hidden] { display: none !important; }` so we also need the `!important` here to be able to override the default hidden behavior on the sphinx rendered scikit-learn.org. See: https://github.com/scikit-learn/scikit-learn/issues/21755 */display: inline-block !important;position: relative;}#sk-container-id-4 div.sk-text-repr-fallback {display: none;}</style><div id=\"sk-container-id-4\" class=\"sk-top-container\"><div class=\"sk-text-repr-fallback\"><pre>LinearRegression()</pre><b>In a Jupyter environment, please rerun this cell to show the HTML representation or trust the notebook. <br />On GitHub, the HTML representation is unable to render, please try loading this page with nbviewer.org.</b></div><div class=\"sk-container\" hidden><div class=\"sk-item\"><div class=\"sk-estimator sk-toggleable\"><input class=\"sk-toggleable__control sk-hidden--visually\" id=\"sk-estimator-id-4\" type=\"checkbox\" checked><label for=\"sk-estimator-id-4\" class=\"sk-toggleable__label sk-toggleable__label-arrow\">LinearRegression</label><div class=\"sk-toggleable__content\"><pre>LinearRegression()</pre></div></div></div></div></div>"
      ],
      "text/plain": [
       "LinearRegression()"
      ]
     },
     "execution_count": 48,
     "metadata": {},
     "output_type": "execute_result"
    }
   ],
   "source": [
    "regressor2=LinearRegression()\n",
    "regressor2.fit(xtrain_quadratic,ytrain)"
   ]
  },
  {
   "cell_type": "code",
   "execution_count": 49,
   "id": "cf6a03c7",
   "metadata": {},
   "outputs": [
    {
     "data": {
      "text/plain": [
       "array([[1.00000000e+00, 0.00000000e+00, 0.00000000e+00, 0.00000000e+00,\n",
       "        0.00000000e+00],\n",
       "       [1.00000000e+00, 2.62626263e-01, 6.89725538e-02, 1.81140040e-02,\n",
       "        4.75721318e-03],\n",
       "       [1.00000000e+00, 5.25252525e-01, 2.75890215e-01, 1.44912032e-01,\n",
       "        7.61154109e-02],\n",
       "       [1.00000000e+00, 7.87878788e-01, 6.20752984e-01, 4.89078109e-01,\n",
       "        3.85334268e-01],\n",
       "       [1.00000000e+00, 1.05050505e+00, 1.10356086e+00, 1.15929626e+00,\n",
       "        1.21784657e+00],\n",
       "       [1.00000000e+00, 1.31313131e+00, 1.72431385e+00, 2.26425050e+00,\n",
       "        2.97325824e+00],\n",
       "       [1.00000000e+00, 1.57575758e+00, 2.48301194e+00, 3.91262487e+00,\n",
       "        6.16534828e+00],\n",
       "       [1.00000000e+00, 1.83838384e+00, 3.37965514e+00, 6.21310338e+00,\n",
       "        1.14220688e+01],\n",
       "       [1.00000000e+00, 2.10101010e+00, 4.41424344e+00, 9.27437007e+00,\n",
       "        1.94855452e+01],\n",
       "       [1.00000000e+00, 2.36363636e+00, 5.58677686e+00, 1.32051089e+01,\n",
       "        3.12120757e+01],\n",
       "       [1.00000000e+00, 2.62626263e+00, 6.89725538e+00, 1.81140040e+01,\n",
       "        4.75721318e+01],\n",
       "       [1.00000000e+00, 2.88888889e+00, 8.34567901e+00, 2.41097394e+01,\n",
       "        6.96503582e+01],\n",
       "       [1.00000000e+00, 3.15151515e+00, 9.93204775e+00, 3.13009990e+01,\n",
       "        9.86455725e+01],\n",
       "       [1.00000000e+00, 3.41414141e+00, 1.16563616e+01, 3.97964669e+01,\n",
       "        1.35870766e+02],\n",
       "       [1.00000000e+00, 3.67676768e+00, 1.35186205e+01, 4.97048271e+01,\n",
       "        1.82753102e+02],\n",
       "       [1.00000000e+00, 3.93939394e+00, 1.55188246e+01, 6.11347636e+01,\n",
       "        2.40833917e+02],\n",
       "       [1.00000000e+00, 4.20202020e+00, 1.76569738e+01, 7.41949605e+01,\n",
       "        3.11768723e+02],\n",
       "       [1.00000000e+00, 4.46464646e+00, 1.99330681e+01, 8.89941018e+01,\n",
       "        3.97327202e+02],\n",
       "       [1.00000000e+00, 4.72727273e+00, 2.23471074e+01, 1.05640872e+02,\n",
       "        4.99393211e+02],\n",
       "       [1.00000000e+00, 4.98989899e+00, 2.48990919e+01, 1.24243954e+02,\n",
       "        6.19964779e+02],\n",
       "       [1.00000000e+00, 5.25252525e+00, 2.75890215e+01, 1.44912032e+02,\n",
       "        7.61154109e+02],\n",
       "       [1.00000000e+00, 5.51515152e+00, 3.04168962e+01, 1.67753791e+02,\n",
       "        9.25187577e+02],\n",
       "       [1.00000000e+00, 5.77777778e+00, 3.33827160e+01, 1.92877915e+02,\n",
       "        1.11440573e+03],\n",
       "       [1.00000000e+00, 6.04040404e+00, 3.64864810e+01, 2.20393087e+02,\n",
       "        1.33126329e+03],\n",
       "       [1.00000000e+00, 6.30303030e+00, 3.97281910e+01, 2.50407992e+02,\n",
       "        1.57832916e+03],\n",
       "       [1.00000000e+00, 6.56565657e+00, 4.31078461e+01, 2.83031313e+02,\n",
       "        1.85828640e+03],\n",
       "       [1.00000000e+00, 6.82828283e+00, 4.66254464e+01, 3.18371735e+02,\n",
       "        2.17393225e+03],\n",
       "       [1.00000000e+00, 7.09090909e+00, 5.02809917e+01, 3.56537941e+02,\n",
       "        2.52817813e+03],\n",
       "       [1.00000000e+00, 7.35353535e+00, 5.40744822e+01, 3.97638617e+02,\n",
       "        2.92404962e+03],\n",
       "       [1.00000000e+00, 7.61616162e+00, 5.80059178e+01, 4.41782444e+02,\n",
       "        3.36468650e+03],\n",
       "       [1.00000000e+00, 7.87878788e+00, 6.20752984e+01, 4.89078109e+02,\n",
       "        3.85334268e+03],\n",
       "       [1.00000000e+00, 8.14141414e+00, 6.62826242e+01, 5.39634294e+02,\n",
       "        4.39338627e+03],\n",
       "       [1.00000000e+00, 8.40404040e+00, 7.06278951e+01, 5.93559684e+02,\n",
       "        4.98829957e+03],\n",
       "       [1.00000000e+00, 8.66666667e+00, 7.51111111e+01, 6.50962963e+02,\n",
       "        5.64167901e+03],\n",
       "       [1.00000000e+00, 8.92929293e+00, 7.97322722e+01, 7.11952815e+02,\n",
       "        6.35723523e+03],\n",
       "       [1.00000000e+00, 9.19191919e+00, 8.44913784e+01, 7.76637923e+02,\n",
       "        7.13879303e+03],\n",
       "       [1.00000000e+00, 9.45454545e+00, 8.93884298e+01, 8.45126972e+02,\n",
       "        7.99029137e+03],\n",
       "       [1.00000000e+00, 9.71717172e+00, 9.44234262e+01, 9.17528646e+02,\n",
       "        8.91578341e+03],\n",
       "       [1.00000000e+00, 9.97979798e+00, 9.95963677e+01, 9.93951629e+02,\n",
       "        9.91943646e+03],\n",
       "       [1.00000000e+00, 1.02424242e+01, 1.04907254e+02, 1.07450461e+03,\n",
       "        1.10055320e+04],\n",
       "       [1.00000000e+00, 1.05050505e+01, 1.10356086e+02, 1.15929626e+03,\n",
       "        1.21784657e+04],\n",
       "       [1.00000000e+00, 1.07676768e+01, 1.15942863e+02, 1.24843527e+03,\n",
       "        1.34427475e+04],\n",
       "       [1.00000000e+00, 1.10303030e+01, 1.21667585e+02, 1.34203033e+03,\n",
       "        1.48030012e+04],\n",
       "       [1.00000000e+00, 1.12929293e+01, 1.27530252e+02, 1.44019012e+03,\n",
       "        1.62639652e+04],\n",
       "       [1.00000000e+00, 1.15555556e+01, 1.33530864e+02, 1.54302332e+03,\n",
       "        1.78304917e+04],\n",
       "       [1.00000000e+00, 1.18181818e+01, 1.39669421e+02, 1.65063862e+03,\n",
       "        1.95075473e+04],\n",
       "       [1.00000000e+00, 1.20808081e+01, 1.45945924e+02, 1.76314470e+03,\n",
       "        2.13002127e+04],\n",
       "       [1.00000000e+00, 1.23434343e+01, 1.52360371e+02, 1.88065024e+03,\n",
       "        2.32136828e+04],\n",
       "       [1.00000000e+00, 1.26060606e+01, 1.58912764e+02, 2.00326393e+03,\n",
       "        2.52532666e+04],\n",
       "       [1.00000000e+00, 1.28686869e+01, 1.65603102e+02, 2.13109446e+03,\n",
       "        2.74243873e+04],\n",
       "       [1.00000000e+00, 1.31313131e+01, 1.72431385e+02, 2.26425050e+03,\n",
       "        2.97325824e+04],\n",
       "       [1.00000000e+00, 1.33939394e+01, 1.79397612e+02, 2.40284075e+03,\n",
       "        3.21835034e+04],\n",
       "       [1.00000000e+00, 1.36565657e+01, 1.86501786e+02, 2.54697388e+03,\n",
       "        3.47829160e+04],\n",
       "       [1.00000000e+00, 1.39191919e+01, 1.93743904e+02, 2.69675858e+03,\n",
       "        3.75367002e+04],\n",
       "       [1.00000000e+00, 1.41818182e+01, 2.01123967e+02, 2.85230353e+03,\n",
       "        4.04508501e+04],\n",
       "       [1.00000000e+00, 1.44444444e+01, 2.08641975e+02, 3.01371742e+03,\n",
       "        4.35314739e+04],\n",
       "       [1.00000000e+00, 1.47070707e+01, 2.16297929e+02, 3.18110893e+03,\n",
       "        4.67847940e+04],\n",
       "       [1.00000000e+00, 1.49696970e+01, 2.24091827e+02, 3.35458675e+03,\n",
       "        5.02171471e+04],\n",
       "       [1.00000000e+00, 1.52323232e+01, 2.32023671e+02, 3.53425956e+03,\n",
       "        5.38349839e+04],\n",
       "       [1.00000000e+00, 1.54949495e+01, 2.40093460e+02, 3.72023603e+03,\n",
       "        5.76448695e+04],\n",
       "       [1.00000000e+00, 1.57575758e+01, 2.48301194e+02, 3.91262487e+03,\n",
       "        6.16534828e+04],\n",
       "       [1.00000000e+00, 1.60202020e+01, 2.56646873e+02, 4.11153475e+03,\n",
       "        6.58676173e+04],\n",
       "       [1.00000000e+00, 1.62828283e+01, 2.65130497e+02, 4.31707435e+03,\n",
       "        7.02941804e+04],\n",
       "       [1.00000000e+00, 1.65454545e+01, 2.73752066e+02, 4.52935237e+03,\n",
       "        7.49401937e+04],\n",
       "       [1.00000000e+00, 1.68080808e+01, 2.82511580e+02, 4.74847747e+03,\n",
       "        7.98127931e+04],\n",
       "       [1.00000000e+00, 1.70707071e+01, 2.91409040e+02, 4.97455836e+03,\n",
       "        8.49192285e+04],\n",
       "       [1.00000000e+00, 1.73333333e+01, 3.00444444e+02, 5.20770370e+03,\n",
       "        9.02668642e+04],\n",
       "       [1.00000000e+00, 1.75959596e+01, 3.09617794e+02, 5.44802220e+03,\n",
       "        9.58631784e+04],\n",
       "       [1.00000000e+00, 1.78585859e+01, 3.18929089e+02, 5.69562252e+03,\n",
       "        1.01715764e+05],\n",
       "       [1.00000000e+00, 1.81212121e+01, 3.28378329e+02, 5.95061335e+03,\n",
       "        1.07832327e+05],\n",
       "       [1.00000000e+00, 1.83838384e+01, 3.37965514e+02, 6.21310338e+03,\n",
       "        1.14220688e+05],\n",
       "       [1.00000000e+00, 1.86464646e+01, 3.47690644e+02, 6.48320130e+03,\n",
       "        1.20888784e+05],\n",
       "       [1.00000000e+00, 1.89090909e+01, 3.57553719e+02, 6.76101578e+03,\n",
       "        1.27844662e+05],\n",
       "       [1.00000000e+00, 1.91717172e+01, 3.67554739e+02, 7.04665551e+03,\n",
       "        1.35096486e+05],\n",
       "       [1.00000000e+00, 1.94343434e+01, 3.77693705e+02, 7.34022917e+03,\n",
       "        1.42652535e+05],\n",
       "       [1.00000000e+00, 1.96969697e+01, 3.87970615e+02, 7.64184545e+03,\n",
       "        1.50521198e+05],\n",
       "       [1.00000000e+00, 1.99595960e+01, 3.98385471e+02, 7.95161303e+03,\n",
       "        1.58710983e+05],\n",
       "       [1.00000000e+00, 2.02222222e+01, 4.08938272e+02, 8.26964060e+03,\n",
       "        1.67230510e+05],\n",
       "       [1.00000000e+00, 2.04848485e+01, 4.19629017e+02, 8.59603684e+03,\n",
       "        1.76088512e+05],\n",
       "       [1.00000000e+00, 2.07474747e+01, 4.30457708e+02, 8.93091043e+03,\n",
       "        1.85293839e+05],\n",
       "       [1.00000000e+00, 2.10101010e+01, 4.41424344e+02, 9.27437007e+03,\n",
       "        1.94855452e+05],\n",
       "       [1.00000000e+00, 2.12727273e+01, 4.52528926e+02, 9.62652442e+03,\n",
       "        2.04782429e+05],\n",
       "       [1.00000000e+00, 2.15353535e+01, 4.63771452e+02, 9.98748218e+03,\n",
       "        2.15083960e+05],\n",
       "       [1.00000000e+00, 2.17979798e+01, 4.75151923e+02, 1.03573520e+04,\n",
       "        2.25769350e+05],\n",
       "       [1.00000000e+00, 2.20606061e+01, 4.86670340e+02, 1.07362426e+04,\n",
       "        2.36848020e+05],\n",
       "       [1.00000000e+00, 2.23232323e+01, 4.98326701e+02, 1.11242627e+04,\n",
       "        2.48329501e+05],\n",
       "       [1.00000000e+00, 2.25858586e+01, 5.10121008e+02, 1.15215209e+04,\n",
       "        2.60223443e+05],\n",
       "       [1.00000000e+00, 2.28484848e+01, 5.22053260e+02, 1.19281260e+04,\n",
       "        2.72539606e+05],\n",
       "       [1.00000000e+00, 2.31111111e+01, 5.34123457e+02, 1.23441866e+04,\n",
       "        2.85287867e+05],\n",
       "       [1.00000000e+00, 2.33737374e+01, 5.46331599e+02, 1.27698113e+04,\n",
       "        2.98478216e+05],\n",
       "       [1.00000000e+00, 2.36363636e+01, 5.58677686e+02, 1.32051089e+04,\n",
       "        3.12120757e+05],\n",
       "       [1.00000000e+00, 2.38989899e+01, 5.71161718e+02, 1.36501881e+04,\n",
       "        3.26225708e+05],\n",
       "       [1.00000000e+00, 2.41616162e+01, 5.83783696e+02, 1.41051576e+04,\n",
       "        3.40803403e+05],\n",
       "       [1.00000000e+00, 2.44242424e+01, 5.96543618e+02, 1.45701259e+04,\n",
       "        3.55864288e+05],\n",
       "       [1.00000000e+00, 2.46868687e+01, 6.09441486e+02, 1.50452019e+04,\n",
       "        3.71418924e+05],\n",
       "       [1.00000000e+00, 2.49494949e+01, 6.22477298e+02, 1.55304942e+04,\n",
       "        3.87477987e+05],\n",
       "       [1.00000000e+00, 2.52121212e+01, 6.35651056e+02, 1.60261115e+04,\n",
       "        4.04052265e+05],\n",
       "       [1.00000000e+00, 2.54747475e+01, 6.48962759e+02, 1.65321624e+04,\n",
       "        4.21152662e+05],\n",
       "       [1.00000000e+00, 2.57373737e+01, 6.62412407e+02, 1.70487557e+04,\n",
       "        4.38790197e+05],\n",
       "       [1.00000000e+00, 2.60000000e+01, 6.76000000e+02, 1.75760000e+04,\n",
       "        4.56976000e+05]])"
      ]
     },
     "execution_count": 49,
     "metadata": {},
     "output_type": "execute_result"
    }
   ],
   "source": [
    "xxqua=quadratic.transform(xx)\n",
    "xxqua"
   ]
  },
  {
   "cell_type": "code",
   "execution_count": 50,
   "id": "b6c6f50a",
   "metadata": {},
   "outputs": [],
   "source": [
    "y_predict=regressor2.predict(xxqua)"
   ]
  },
  {
   "cell_type": "code",
   "execution_count": 51,
   "id": "0e10062e",
   "metadata": {
    "collapsed": true
   },
   "outputs": [
    {
     "data": {
      "text/plain": [
       "array([[ 65.625     ],\n",
       "       [ 59.26426797],\n",
       "       [ 53.38958658],\n",
       "       [ 47.97856805],\n",
       "       [ 43.0093152 ],\n",
       "       [ 38.46042142],\n",
       "       [ 34.3109707 ],\n",
       "       [ 30.54053762],\n",
       "       [ 27.12918733],\n",
       "       [ 24.05747558],\n",
       "       [ 21.30644871],\n",
       "       [ 18.85764365],\n",
       "       [ 16.6930879 ],\n",
       "       [ 14.79529957],\n",
       "       [ 13.14728734],\n",
       "       [ 11.73255048],\n",
       "       [ 10.53507886],\n",
       "       [  9.53935293],\n",
       "       [  8.73034373],\n",
       "       [  8.09351287],\n",
       "       [  7.61481258],\n",
       "       [  7.28068564],\n",
       "       [  7.07806546],\n",
       "       [  6.99437601],\n",
       "       [  7.01753184],\n",
       "       [  7.13593811],\n",
       "       [  7.33849056],\n",
       "       [  7.61457551],\n",
       "       [  7.95406987],\n",
       "       [  8.34734116],\n",
       "       [  8.78524745],\n",
       "       [  9.25913742],\n",
       "       [  9.76085034],\n",
       "       [ 10.28271605],\n",
       "       [ 10.817555  ],\n",
       "       [ 11.35867821],\n",
       "       [ 11.8998873 ],\n",
       "       [ 12.43547447],\n",
       "       [ 12.96022251],\n",
       "       [ 13.46940479],\n",
       "       [ 13.95878528],\n",
       "       [ 14.42461854],\n",
       "       [ 14.8636497 ],\n",
       "       [ 15.27311448],\n",
       "       [ 15.65073922],\n",
       "       [ 15.9947408 ],\n",
       "       [ 16.30382671],\n",
       "       [ 16.57719505],\n",
       "       [ 16.81453446],\n",
       "       [ 17.01602421],\n",
       "       [ 17.18233414],\n",
       "       [ 17.31462467],\n",
       "       [ 17.41454682],\n",
       "       [ 17.48424219],\n",
       "       [ 17.52634298],\n",
       "       [ 17.54397196],\n",
       "       [ 17.5407425 ],\n",
       "       [ 17.52075855],\n",
       "       [ 17.48861466],\n",
       "       [ 17.44939595],\n",
       "       [ 17.40867815],\n",
       "       [ 17.37252755],\n",
       "       [ 17.34750105],\n",
       "       [ 17.34064613],\n",
       "       [ 17.35950085],\n",
       "       [ 17.41209388],\n",
       "       [ 17.50694444],\n",
       "       [ 17.65306238],\n",
       "       [ 17.85994811],\n",
       "       [ 18.13759264],\n",
       "       [ 18.49647755],\n",
       "       [ 18.94757504],\n",
       "       [ 19.50234786],\n",
       "       [ 20.17274937],\n",
       "       [ 20.97122353],\n",
       "       [ 21.91070484],\n",
       "       [ 23.00461845],\n",
       "       [ 24.26688005],\n",
       "       [ 25.71189593],\n",
       "       [ 27.35456299],\n",
       "       [ 29.21026868],\n",
       "       [ 31.29489106],\n",
       "       [ 33.62479878],\n",
       "       [ 36.21685107],\n",
       "       [ 39.08839775],\n",
       "       [ 42.25727923],\n",
       "       [ 45.7418265 ],\n",
       "       [ 49.56086114],\n",
       "       [ 53.73369532],\n",
       "       [ 58.28013181],\n",
       "       [ 63.22046394],\n",
       "       [ 68.57547565],\n",
       "       [ 74.36644145],\n",
       "       [ 80.61512647],\n",
       "       [ 87.34378639],\n",
       "       [ 94.57516749],\n",
       "       [102.33250665],\n",
       "       [110.63953133],\n",
       "       [119.52045957],\n",
       "       [129.        ]])"
      ]
     },
     "execution_count": 51,
     "metadata": {},
     "output_type": "execute_result"
    }
   ],
   "source": [
    "y_predict"
   ]
  },
  {
   "cell_type": "code",
   "execution_count": 53,
   "id": "23a14091",
   "metadata": {},
   "outputs": [
    {
     "data": {
      "image/png": "[encoded data removed]",
      "text/plain": [
       "<Figure size 640x480 with 1 Axes>"
      ]
     },
     "metadata": {},
     "output_type": "display_data"
    }
   ],
   "source": [
    "plt.scatter(xtrain,ytrain)\n",
    "plt.plot(xx,yy,c='g',linestyle='--')\n",
    "plt.plot(xx,y_predict,c='r',linestyle='--')\n",
    "plt.xlabel=('dia')\n",
    "plt.ylabel=('price')\n",
    "plt.title('Pizza price regressed with dia')\n",
    "plt.axis([0,25,0,25])\n",
    "plt.show()"
   ]
  },
  {
   "cell_type": "code",
   "execution_count": 38,
   "id": "61009ff0",
   "metadata": {},
   "outputs": [
    {
     "name": "stdout",
     "output_type": "stream",
     "text": [
      "traing score of simple linear regression 0.9100015964240102\n",
      "traing score of simple linear regression 0.809726797707665\n"
     ]
    }
   ],
   "source": [
    "print('traing score of simple linear regression',regressor.score(xtrain,ytrain))\n",
    "print('traing score of simple linear regression',regressor.score(x_test,y_test))"
   ]
  },
  {
   "cell_type": "code",
   "execution_count": 28,
   "id": "f3e20da9",
   "metadata": {},
   "outputs": [
    {
     "name": "stdout",
     "output_type": "stream",
     "text": [
      "traing score of poly linear regression 1.0\n",
      "testing score of poly linear regression 0.809588079589791\n"
     ]
    }
   ],
   "source": [
    "print('traing score of poly linear regression',regressor2.score(xtrain_quadratic,ytrain))\n",
    "print('testing score of poly linear regression',regressor2.score(x_test_quadratic,y_test))"
   ]
  },
  {
   "cell_type": "code",
   "execution_count": null,
   "id": "ba36ced3",
   "metadata": {},
   "outputs": [],
   "source": []
  }
 ],
 "metadata": {
  "kernelspec": {
   "display_name": "Python 3 (ipykernel)",
   "language": "python",
   "name": "python3"
  },
  "language_info": {
   "codemirror_mode": {
    "name": "ipython",
    "version": 3
   },
   "file_extension": ".py",
   "mimetype": "text/x-python",
   "name": "python",
   "nbconvert_exporter": "python",
   "pygments_lexer": "ipython3",
   "version": "3.11.5"
  }
 },
 "nbformat": 4,
 "nbformat_minor": 5
}
